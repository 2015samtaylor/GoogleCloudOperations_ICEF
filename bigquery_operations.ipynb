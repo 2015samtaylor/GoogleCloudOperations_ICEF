{
 "cells": [
  {
   "cell_type": "code",
   "execution_count": 4,
   "metadata": {},
   "outputs": [
    {
     "name": "stdout",
     "output_type": "stream",
     "text": [
      "The autoreload extension is already loaded. To reload it, use:\n",
      "  %reload_ext autoreload\n",
      "illuminate\n",
      "us-west1\n",
      "\n",
      "\n",
      "Bucket illuminatebucket-icefschools-1 created in us-west1 with STANDARD storage class.\n",
      "Local File /home/g2015samtaylor/illuminate/assessment_results_group.csv was uploaded as a new file assessment_results_group.csv in the bucket illuminatebucket-icefschools-1.\n",
      "Local File /home/g2015samtaylor/illuminate/assessment_results.csv was uploaded as a new file assessment_results.csv in the bucket illuminatebucket-icefschools-1.\n",
      "illuminatebucket-icefschools-1\n",
      "Attempting to create table icef-437920.illuminate.assessment_results and send data for the first time\n",
      "Attempting to create table icef-437920.illuminate.assessment_results_group and send data for the first time\n"
     ]
    }
   ],
   "source": [
    "%load_ext autoreload\n",
    "%autoreload 2\n",
    "import pysftp\n",
    "import os\n",
    "import pandas_gbq\n",
    "import pandas as pd\n",
    "from modules.buckets import *\n",
    "from modules.reproducibility import *\n",
    "from modules.sftp_ops import *\n",
    "import logging\n",
    "\n",
    "clear_logging_handlers()\n",
    "\n",
    "#Configure loggging\n",
    "logging.basicConfig(filename='logs/BigQuery.log', level=logging.INFO,\n",
    "                   format='%(asctime)s - %(message)s', datefmt='%d-%b-%y %H:%M:%S')\n",
    "logging.info('\\n\\n-------------New Big Query Logging Instance')\n",
    "\n",
    "# Set the GOOGLE_APPLICATION_CREDENTIALS environment variable in order to interact, import the SFTP password from the same file\n",
    "os.environ[\"GOOGLE_APPLICATION_CREDENTIALS\"] = '/home/g2015samtaylor/icef-437920.json'\n",
    "    \n",
    "# ----------------------------------------------------------\n",
    "#Need to make this portion to where it assesses all files in the dir recursively. \n",
    "def main(SFTP_folder_name):\n",
    "\n",
    "    SFTP_folder_name  = initial_schema_check(SFTP_folder_name)\n",
    "    print(SFTP_folder_name)\n",
    "\n",
    "    instance = Create(\n",
    "                project_id='icef-437920',\n",
    "                location = 'us-west1',\n",
    "                bucket=f'{SFTP_folder_name}bucket-icefschools-1',\n",
    "                local_dir = f'/home/g2015samtaylor/{SFTP_folder_name}',\n",
    "                db = SFTP_folder_name,\n",
    "                append_or_replace='replace',\n",
    "                )\n",
    "    \n",
    "    instance.process()# Pass SFTP files into Bucket & then into Big Query tables\n",
    "\n",
    "#roughly 4 mins to stack and send to new dir\n",
    "\n",
    "\n",
    "main('illuminate')\n",
    "logging.info('Process has reached the end\\n\\n')\n",
    "\n",
    "#Fix indentation of the logs\n",
    "#Implement new SFTP module"
   ]
  }
 ],
 "metadata": {
  "kernelspec": {
   "display_name": "Python 3",
   "language": "python",
   "name": "python3"
  },
  "language_info": {
   "codemirror_mode": {
    "name": "ipython",
    "version": 3
   },
   "file_extension": ".py",
   "mimetype": "text/x-python",
   "name": "python",
   "nbconvert_exporter": "python",
   "pygments_lexer": "ipython3",
   "version": "3.8.10"
  }
 },
 "nbformat": 4,
 "nbformat_minor": 2
}
